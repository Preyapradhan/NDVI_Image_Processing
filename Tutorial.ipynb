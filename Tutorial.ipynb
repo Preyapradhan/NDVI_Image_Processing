{
 "cells": [
  {
   "cell_type": "code",
   "execution_count": 3,
   "metadata": {},
   "outputs": [
    {
     "ename": "ModuleNotFoundError",
     "evalue": "No module named 'numpy'",
     "output_type": "error",
     "traceback": [
      "\u001b[1;31m---------------------------------------------------------------------------\u001b[0m",
      "\u001b[1;31mModuleNotFoundError\u001b[0m                       Traceback (most recent call last)",
      "Cell \u001b[1;32mIn[3], line 2\u001b[0m\n\u001b[0;32m      1\u001b[0m \u001b[38;5;28;01mfrom\u001b[39;00m \u001b[38;5;21;01mosgeo\u001b[39;00m \u001b[38;5;28;01mimport\u001b[39;00m ogr, gdal, osr\n\u001b[1;32m----> 2\u001b[0m \u001b[38;5;28;01mimport\u001b[39;00m \u001b[38;5;21;01mnumpy\u001b[39;00m \u001b[38;5;28;01mas\u001b[39;00m \u001b[38;5;21;01mnp\u001b[39;00m\n\u001b[0;32m      3\u001b[0m \u001b[38;5;28;01mimport\u001b[39;00m \u001b[38;5;21;01mos\u001b[39;00m\n\u001b[0;32m      4\u001b[0m \u001b[38;5;28;01mimport\u001b[39;00m \u001b[38;5;21;01mmatplotlib\u001b[39;00m\u001b[38;5;21;01m.\u001b[39;00m\u001b[38;5;21;01mpyplot\u001b[39;00m \u001b[38;5;28;01mas\u001b[39;00m \u001b[38;5;21;01mplt\u001b[39;00m\n",
      "\u001b[1;31mModuleNotFoundError\u001b[0m: No module named 'numpy'"
     ]
    }
   ],
   "source": [
    "from osgeo import ogr, gdal, osr\n",
    "import numpy as np\n",
    "import os\n",
    "import matplotlib.pyplot as plt"
   ]
  },
  {
   "cell_type": "code",
   "execution_count": null,
   "metadata": {},
   "outputs": [
    {
     "ename": "",
     "evalue": "",
     "output_type": "error",
     "traceback": [
      "\u001b[1;31mRunning cells with 'myenv (Python 3.12.2)' requires the ipykernel package.\n",
      "\u001b[1;31mRun the following command to install 'ipykernel' into the Python environment. \n",
      "\u001b[1;31mCommand: '\"c:/Users/Preya/BISAG INTERNSHIP/myenv/Scripts/python.exe\" -m pip install ipykernel -U --force-reinstall'"
     ]
    }
   ],
   "source": [
    "#Input Raster and Vector Paths\n",
    "\n",
    "#Image-2019\n",
    "path_B5_2014= \"D:\\\\BISAG-N\\\\ML Project Frontend\\\\2016-11-04-00_00_2016-11-04-23_59_Sentinel-2_L2A_B05_(Raw).tiff\"\n",
    "path_B4_2014= \"D:\\\\BISAG-N\\\\ML Project Frontend\\\\2016-11-04-00_00_2016-11-04-23_59_Sentinel-2_L2A_B04_(Raw).tiff\"\n",
    "\n",
    "#Image-2014\n",
    "path_B5_2019= \"D:\\\\BISAG-N\\\\ML Project Frontend\\\\2024-06-05-00_00_2024-06-05-23_59_Sentinel-2_L2A_B05_(Raw).tiff\"\n",
    "path_B4_2019=\"D:\\\\BISAG-N\\\\ML Project Frontend\\\\2024-06-05-00_00_2024-06-05-23_59_Sentinel-2_L2A_B04_(Raw).tiff\"\n"
   ]
  },
  {
   "cell_type": "code",
   "execution_count": null,
   "metadata": {},
   "outputs": [
    {
     "ename": "",
     "evalue": "",
     "output_type": "error",
     "traceback": [
      "\u001b[1;31mRunning cells with 'myenv (Python 3.12.2)' requires the ipykernel package.\n",
      "\u001b[1;31mRun the following command to install 'ipykernel' into the Python environment. \n",
      "\u001b[1;31mCommand: '\"c:/Users/Preya/BISAG INTERNSHIP/myenv/Scripts/python.exe\" -m pip install ipykernel -U --force-reinstall'"
     ]
    }
   ],
   "source": [
    "#Output Files\n",
    "\n",
    "#Output NDVI Rasters \n",
    "path_NDVI_2019 = './static/output/NDVI2024.tif'\n",
    "path_NDVI_2014 = './static/output/NDVI2016.tif'\n",
    "path_NDVIChange_19_14 = './static/output/NDVIChange_24_16.tif'\n",
    "#NDVI Contours\n",
    "contours_NDVIChange_19_14 = './static/output/NDVIChange_24_16.shp'"
   ]
  },
  {
   "cell_type": "code",
   "execution_count": null,
   "metadata": {},
   "outputs": [
    {
     "ename": "",
     "evalue": "",
     "output_type": "error",
     "traceback": [
      "\u001b[1;31mRunning cells with 'myenv (Python 3.12.2)' requires the ipykernel package.\n",
      "\u001b[1;31mRun the following command to install 'ipykernel' into the Python environment. \n",
      "\u001b[1;31mCommand: '\"c:/Users/Preya/BISAG INTERNSHIP/myenv/Scripts/python.exe\" -m pip install ipykernel -U --force-reinstall'"
     ]
    }
   ],
   "source": [
    "#Open raster bands\n",
    "B5_2019 = gdal.Open(path_B5_2019)\n",
    "B4_2019 = gdal.Open(path_B4_2019)\n",
    "B5_2014 = gdal.Open(path_B5_2014)\n",
    "B4_2014 = gdal.Open(path_B4_2014)\n",
    "\n",
    "#Read bands as matrix arrays\n",
    "B52019_Data = B5_2019.GetRasterBand(1).ReadAsArray().astype(np.float32)\n",
    "B42019_Data = B4_2019.GetRasterBand(1).ReadAsArray().astype(np.float32)\n",
    "B52014_Data = B5_2014.GetRasterBand(1).ReadAsArray().astype(np.float32)\n",
    "B42014_Data = B4_2014.GetRasterBand(1).ReadAsArray().astype(np.float32)"
   ]
  },
  {
   "cell_type": "code",
   "execution_count": null,
   "metadata": {},
   "outputs": [
    {
     "ename": "",
     "evalue": "",
     "output_type": "error",
     "traceback": [
      "\u001b[1;31mRunning cells with 'myenv (Python 3.12.2)' requires the ipykernel package.\n",
      "\u001b[1;31mRun the following command to install 'ipykernel' into the Python environment. \n",
      "\u001b[1;31mCommand: '\"c:/Users/Preya/BISAG INTERNSHIP/myenv/Scripts/python.exe\" -m pip install ipykernel -U --force-reinstall'"
     ]
    }
   ],
   "source": [
    "print(B5_2014.GetProjection()[:80])\n",
    "print(B5_2019.GetProjection()[:80])\n",
    "if B5_2014.GetProjection()[:80]==B5_2019.GetProjection()[:80]: print('SRC OK')\n"
   ]
  },
  {
   "cell_type": "code",
   "execution_count": null,
   "metadata": {},
   "outputs": [
    {
     "ename": "",
     "evalue": "",
     "output_type": "error",
     "traceback": [
      "\u001b[1;31mRunning cells with 'myenv (Python 3.12.2)' requires the ipykernel package.\n",
      "\u001b[1;31mRun the following command to install 'ipykernel' into the Python environment. \n",
      "\u001b[1;31mCommand: '\"c:/Users/Preya/BISAG INTERNSHIP/myenv/Scripts/python.exe\" -m pip install ipykernel -U --force-reinstall'"
     ]
    }
   ],
   "source": [
    "B52019_Data = B52019_Data[:1448, :2147]  # Select the first 1448 rows\n",
    "print(B52014_Data.shape)\n",
    "print(B52019_Data.shape)\n",
    "if B52014_Data.shape==B52019_Data.shape: print('Array Size OK')"
   ]
  },
  {
   "cell_type": "code",
   "execution_count": null,
   "metadata": {},
   "outputs": [
    {
     "ename": "",
     "evalue": "",
     "output_type": "error",
     "traceback": [
      "\u001b[1;31mRunning cells with 'myenv (Python 3.12.2)' requires the ipykernel package.\n",
      "\u001b[1;31mRun the following command to install 'ipykernel' into the Python environment. \n",
      "\u001b[1;31mCommand: '\"c:/Users/Preya/BISAG INTERNSHIP/myenv/Scripts/python.exe\" -m pip install ipykernel -U --force-reinstall'"
     ]
    }
   ],
   "source": [
    "print(B5_2014.GetGeoTransform())\n",
    "print(B5_2019.GetGeoTransform())\n",
    "if B5_2014.GetGeoTransform()==B5_2019.GetGeoTransform(): print('Geotransformation OK')"
   ]
  },
  {
   "cell_type": "code",
   "execution_count": null,
   "metadata": {},
   "outputs": [
    {
     "ename": "",
     "evalue": "",
     "output_type": "error",
     "traceback": [
      "\u001b[1;31mRunning cells with 'myenv (Python 3.12.2)' requires the ipykernel package.\n",
      "\u001b[1;31mRun the following command to install 'ipykernel' into the Python environment. \n",
      "\u001b[1;31mCommand: '\"c:/Users/Preya/BISAG INTERNSHIP/myenv/Scripts/python.exe\" -m pip install ipykernel -U --force-reinstall'"
     ]
    }
   ],
   "source": [
    "geotransform = B5_2014.GetGeoTransform()\n",
    "\n",
    "originX,pixelWidth,empty,finalY,empty2,pixelHeight=geotransform\n",
    "cols =  B5_2014.RasterXSize\n",
    "rows =  B5_2014.RasterYSize"
   ]
  },
  {
   "cell_type": "code",
   "execution_count": null,
   "metadata": {},
   "outputs": [
    {
     "ename": "",
     "evalue": "",
     "output_type": "error",
     "traceback": [
      "\u001b[1;31mRunning cells with 'myenv (Python 3.12.2)' requires the ipykernel package.\n",
      "\u001b[1;31mRun the following command to install 'ipykernel' into the Python environment. \n",
      "\u001b[1;31mCommand: '\"c:/Users/Preya/BISAG INTERNSHIP/myenv/Scripts/python.exe\" -m pip install ipykernel -U --force-reinstall'"
     ]
    }
   ],
   "source": [
    "projection = B5_2014.GetProjection()"
   ]
  },
  {
   "cell_type": "code",
   "execution_count": null,
   "metadata": {},
   "outputs": [
    {
     "ename": "",
     "evalue": "",
     "output_type": "error",
     "traceback": [
      "\u001b[1;31mRunning cells with 'myenv (Python 3.12.2)' requires the ipykernel package.\n",
      "\u001b[1;31mRun the following command to install 'ipykernel' into the Python environment. \n",
      "\u001b[1;31mCommand: '\"c:/Users/Preya/BISAG INTERNSHIP/myenv/Scripts/python.exe\" -m pip install ipykernel -U --force-reinstall'"
     ]
    }
   ],
   "source": [
    "finalX = originX + pixelWidth * cols\n",
    "originY = finalY + pixelHeight * rows"
   ]
  },
  {
   "cell_type": "code",
   "execution_count": null,
   "metadata": {},
   "outputs": [
    {
     "ename": "",
     "evalue": "",
     "output_type": "error",
     "traceback": [
      "\u001b[1;31mRunning cells with 'myenv (Python 3.12.2)' requires the ipykernel package.\n",
      "\u001b[1;31mRun the following command to install 'ipykernel' into the Python environment. \n",
      "\u001b[1;31mCommand: '\"c:/Users/Preya/BISAG INTERNSHIP/myenv/Scripts/python.exe\" -m pip install ipykernel -U --force-reinstall'"
     ]
    }
   ],
   "source": [
    "ndvi2014 = np.divide(B52014_Data - B42014_Data, B52014_Data+ B42014_Data,where=(B52014_Data - B42014_Data)!=0)\n",
    "ndvi2014[ndvi2014 == 0] = -999\n",
    "\n",
    "ndvi2019 = np.divide(B52019_Data - B42019_Data, B52019_Data+ B42019_Data,where=(B52019_Data - B42019_Data)!=0)\n",
    "ndvi2019[ndvi2019 == 0] = -999"
   ]
  },
  {
   "cell_type": "code",
   "execution_count": null,
   "metadata": {},
   "outputs": [
    {
     "ename": "",
     "evalue": "",
     "output_type": "error",
     "traceback": [
      "\u001b[1;31mRunning cells with 'myenv (Python 3.12.2)' requires the ipykernel package.\n",
      "\u001b[1;31mRun the following command to install 'ipykernel' into the Python environment. \n",
      "\u001b[1;31mCommand: '\"c:/Users/Preya/BISAG INTERNSHIP/myenv/Scripts/python.exe\" -m pip install ipykernel -U --force-reinstall'"
     ]
    }
   ],
   "source": [
    "def saveRaster(dataset,datasetPath,cols,rows,projection):\n",
    "    rasterSet = gdal.GetDriverByName('GTiff').Create(datasetPath, cols, rows,1,gdal.GDT_Float32)\n",
    "    rasterSet.SetProjection(projection)\n",
    "    rasterSet.SetGeoTransform(geotransform)\n",
    "    rasterSet.GetRasterBand(1).WriteArray(dataset)\n",
    "    rasterSet.GetRasterBand(1).SetNoDataValue(-999)\n",
    "    rasterSet = None"
   ]
  },
  {
   "cell_type": "code",
   "execution_count": null,
   "metadata": {},
   "outputs": [
    {
     "ename": "",
     "evalue": "",
     "output_type": "error",
     "traceback": [
      "\u001b[1;31mRunning cells with 'myenv (Python 3.12.2)' requires the ipykernel package.\n",
      "\u001b[1;31mRun the following command to install 'ipykernel' into the Python environment. \n",
      "\u001b[1;31mCommand: '\"c:/Users/Preya/BISAG INTERNSHIP/myenv/Scripts/python.exe\" -m pip install ipykernel -U --force-reinstall'"
     ]
    }
   ],
   "source": [
    "saveRaster(ndvi2014,path_NDVI_2014,cols,rows,projection)\n",
    "\n",
    "saveRaster(ndvi2019,path_NDVI_2019,cols,rows,projection)"
   ]
  },
  {
   "cell_type": "code",
   "execution_count": null,
   "metadata": {},
   "outputs": [
    {
     "ename": "",
     "evalue": "",
     "output_type": "error",
     "traceback": [
      "\u001b[1;31mRunning cells with 'myenv (Python 3.12.2)' requires the ipykernel package.\n",
      "\u001b[1;31mRun the following command to install 'ipykernel' into the Python environment. \n",
      "\u001b[1;31mCommand: '\"c:/Users/Preya/BISAG INTERNSHIP/myenv/Scripts/python.exe\" -m pip install ipykernel -U --force-reinstall'"
     ]
    }
   ],
   "source": [
    "extentArray = [originX,finalX,originY,finalY]\n",
    "def plotNDVI(ndviImage,extentArray,vmin,cmap):\n",
    "    ndvi = gdal.Open(ndviImage)\n",
    "    ds2019 = ndvi.ReadAsArray()\n",
    "    plt.figure(figsize=(20,15))\n",
    "    im = plt.imshow(ds2019, vmin=vmin, cmap=cmap, extent=extentArray)#\n",
    "    plt.colorbar(im, fraction=0.015)\n",
    "    plt.xlabel('Este')\n",
    "    plt.ylabel('Norte')\n",
    "    plt.show()"
   ]
  },
  {
   "cell_type": "code",
   "execution_count": null,
   "metadata": {},
   "outputs": [
    {
     "ename": "",
     "evalue": "",
     "output_type": "error",
     "traceback": [
      "\u001b[1;31mRunning cells with 'myenv (Python 3.12.2)' requires the ipykernel package.\n",
      "\u001b[1;31mRun the following command to install 'ipykernel' into the Python environment. \n",
      "\u001b[1;31mCommand: '\"c:/Users/Preya/BISAG INTERNSHIP/myenv/Scripts/python.exe\" -m pip install ipykernel -U --force-reinstall'"
     ]
    }
   ],
   "source": [
    "plotNDVI(path_NDVI_2014,extentArray,0,'YlGn')"
   ]
  },
  {
   "cell_type": "code",
   "execution_count": null,
   "metadata": {},
   "outputs": [
    {
     "ename": "",
     "evalue": "",
     "output_type": "error",
     "traceback": [
      "\u001b[1;31mRunning cells with 'myenv (Python 3.12.2)' requires the ipykernel package.\n",
      "\u001b[1;31mRun the following command to install 'ipykernel' into the Python environment. \n",
      "\u001b[1;31mCommand: '\"c:/Users/Preya/BISAG INTERNSHIP/myenv/Scripts/python.exe\" -m pip install ipykernel -U --force-reinstall'"
     ]
    }
   ],
   "source": [
    "plotNDVI(path_NDVI_2019,extentArray,0,'YlGn')"
   ]
  },
  {
   "cell_type": "code",
   "execution_count": null,
   "metadata": {},
   "outputs": [
    {
     "ename": "",
     "evalue": "",
     "output_type": "error",
     "traceback": [
      "\u001b[1;31mRunning cells with 'myenv (Python 3.12.2)' requires the ipykernel package.\n",
      "\u001b[1;31mRun the following command to install 'ipykernel' into the Python environment. \n",
      "\u001b[1;31mCommand: '\"c:/Users/Preya/BISAG INTERNSHIP/myenv/Scripts/python.exe\" -m pip install ipykernel -U --force-reinstall'"
     ]
    }
   ],
   "source": [
    "ndviChange = ndvi2019-ndvi2014\n",
    "ndviChange = np.where((ndvi2014>-999) & (ndvi2019>-999),ndviChange,-999)\n",
    "ndviChange\n",
    "\n",
    "saveRaster(ndviChange,path_NDVIChange_19_14,cols,rows,projection)\n",
    "# plotNDVI(path_NDVIChange_19_14,extentArray)\n",
    "\n",
    "plotNDVI(path_NDVIChange_19_14,extentArray,-0.5,'Spectral')"
   ]
  },
  {
   "cell_type": "code",
   "execution_count": null,
   "metadata": {},
   "outputs": [
    {
     "ename": "",
     "evalue": "",
     "output_type": "error",
     "traceback": [
      "\u001b[1;31mRunning cells with 'myenv (Python 3.12.2)' requires the ipykernel package.\n",
      "\u001b[1;31mRun the following command to install 'ipykernel' into the Python environment. \n",
      "\u001b[1;31mCommand: '\"c:/Users/Preya/BISAG INTERNSHIP/myenv/Scripts/python.exe\" -m pip install ipykernel -U --force-reinstall'"
     ]
    }
   ],
   "source": [
    "Dataset_ndvi = gdal.Open(path_NDVIChange_19_14)#path_NDVI_2014\n",
    "ndvi_raster = Dataset_ndvi.GetRasterBand(1)\n",
    "\n",
    "ogr_ds = ogr.GetDriverByName(\"ESRI Shapefile\").CreateDataSource(contours_NDVIChange_19_14)\n",
    "\n",
    "prj=Dataset_ndvi.GetProjectionRef()#GetProjection()\n",
    "\n",
    "srs = osr.SpatialReference(wkt=prj)#\n",
    "#srs.ImportFromProj4(prj)\n",
    "\n",
    "contour_shp = ogr_ds.CreateLayer('contour', srs)\n",
    "field_defn = ogr.FieldDefn(\"ID\", ogr.OFTInteger)\n",
    "contour_shp.CreateField(field_defn)\n",
    "field_defn = ogr.FieldDefn(\"ndviChange\", ogr.OFTReal)\n",
    "contour_shp.CreateField(field_defn)\n",
    "#Generate Contourlines\n",
    "gdal.ContourGenerate(ndvi_raster, 0.1, 0, [], 1, -999, contour_shp, 0, 1)\n",
    "ogr_ds = None"
   ]
  },
  {
   "cell_type": "code",
   "execution_count": null,
   "metadata": {},
   "outputs": [
    {
     "ename": "",
     "evalue": "",
     "output_type": "error",
     "traceback": [
      "\u001b[1;31mRunning cells with 'myenv (Python 3.12.2)' requires the ipykernel package.\n",
      "\u001b[1;31mRun the following command to install 'ipykernel' into the Python environment. \n",
      "\u001b[1;31mCommand: '\"c:/Users/Preya/BISAG INTERNSHIP/myenv/Scripts/python.exe\" -m pip install ipykernel -U --force-reinstall'"
     ]
    }
   ],
   "source": [
    "# path_B5_2020 = \"2020.tif\"\n",
    "# path_B4_2013 = \"2013.tif\"\n",
    "\n",
    "# ndvi2020 = gdal.Open(path_B5_2020)\n",
    "# ndvi2013 = gdal.Open(path_B4_2013)\n",
    "\n",
    "# ndvi2020_data = ndvi2020.GetRasterBand(1).ReadAsArray().astype(np.float32)\n",
    "# ndvi2013_data = ndvi2013.GetRasterBand(1).ReadAsArray().astype(np.float32)\n",
    "# # B52019_Data = B52019_Data[:1448, :2147]  # Select the first 1448 rows\n",
    "# print(ndvi2020_data.shape)\n",
    "# print(ndvi2013_data.shape)\n",
    "# if ndvi2020_data.shape==ndvi2013_data.shape: print('Array Size OK')"
   ]
  },
  {
   "cell_type": "code",
   "execution_count": null,
   "metadata": {},
   "outputs": [
    {
     "ename": "",
     "evalue": "",
     "output_type": "error",
     "traceback": [
      "\u001b[1;31mRunning cells with 'myenv (Python 3.12.2)' requires the ipykernel package.\n",
      "\u001b[1;31mRun the following command to install 'ipykernel' into the Python environment. \n",
      "\u001b[1;31mCommand: '\"c:/Users/Preya/BISAG INTERNSHIP/myenv/Scripts/python.exe\" -m pip install ipykernel -U --force-reinstall'"
     ]
    }
   ],
   "source": [
    "# ndviChange = ndvi2020_data-ndvi2013_data\n",
    "# ndviChange = np.where((ndvi2013_data>-999) & (ndvi2020_data>-999),ndviChange,-999)\n",
    "# ndviChange"
   ]
  },
  {
   "cell_type": "code",
   "execution_count": null,
   "metadata": {},
   "outputs": [
    {
     "ename": "",
     "evalue": "",
     "output_type": "error",
     "traceback": [
      "\u001b[1;31mRunning cells with 'myenv (Python 3.12.2)' requires the ipykernel package.\n",
      "\u001b[1;31mRun the following command to install 'ipykernel' into the Python environment. \n",
      "\u001b[1;31mCommand: '\"c:/Users/Preya/BISAG INTERNSHIP/myenv/Scripts/python.exe\" -m pip install ipykernel -U --force-reinstall'"
     ]
    }
   ],
   "source": [
    "# saveRaster(ndviChange,path_NDVIChange_19_14,7681,7521,projection)"
   ]
  },
  {
   "cell_type": "code",
   "execution_count": null,
   "metadata": {},
   "outputs": [
    {
     "ename": "",
     "evalue": "",
     "output_type": "error",
     "traceback": [
      "\u001b[1;31mRunning cells with 'myenv (Python 3.12.2)' requires the ipykernel package.\n",
      "\u001b[1;31mRun the following command to install 'ipykernel' into the Python environment. \n",
      "\u001b[1;31mCommand: '\"c:/Users/Preya/BISAG INTERNSHIP/myenv/Scripts/python.exe\" -m pip install ipykernel -U --force-reinstall'"
     ]
    }
   ],
   "source": [
    "# plotNDVI(path_NDVIChange_19_14,extentArray,-0.5,'Spectral')"
   ]
  },
  {
   "cell_type": "code",
   "execution_count": null,
   "metadata": {},
   "outputs": [
    {
     "ename": "",
     "evalue": "",
     "output_type": "error",
     "traceback": [
      "\u001b[1;31mRunning cells with 'myenv (Python 3.12.2)' requires the ipykernel package.\n",
      "\u001b[1;31mRun the following command to install 'ipykernel' into the Python environment. \n",
      "\u001b[1;31mCommand: '\"c:/Users/Preya/BISAG INTERNSHIP/myenv/Scripts/python.exe\" -m pip install ipykernel -U --force-reinstall'"
     ]
    }
   ],
   "source": [
    "# Dataset_ndvi = gdal.Open(path_NDVIChange_19_14)#path_NDVI_2014\n",
    "# ndvi_raster = Dataset_ndvi.GetRasterBand(1)\n",
    "\n",
    "# ogr_ds = ogr.GetDriverByName(\"ESRI Shapefile\").CreateDataSource(contours_NDVIChange_19_14)\n",
    "\n",
    "# prj=Dataset_ndvi.GetProjectionRef()#GetProjection()\n",
    "\n",
    "# srs = osr.SpatialReference(wkt=prj)#\n",
    "# #srs.ImportFromProj4(prj)\n",
    "\n",
    "# contour_shp = ogr_ds.CreateLayer('contour', srs)\n",
    "# field_defn = ogr.FieldDefn(\"ID\", ogr.OFTInteger)\n",
    "# contour_shp.CreateField(field_defn)\n",
    "# field_defn = ogr.FieldDefn(\"ndviChange\", ogr.OFTReal)\n",
    "# contour_shp.CreateField(field_defn)\n",
    "# #Generate Contourlines\n",
    "# gdal.ContourGenerate(ndvi_raster, 0.1, 0, [], 1, -999, contour_shp, 0, 1)\n",
    "# ogr_ds = None"
   ]
  },
  {
   "cell_type": "code",
   "execution_count": null,
   "metadata": {},
   "outputs": [
    {
     "ename": "",
     "evalue": "",
     "output_type": "error",
     "traceback": [
      "\u001b[1;31mRunning cells with 'myenv (Python 3.12.2)' requires the ipykernel package.\n",
      "\u001b[1;31mRun the following command to install 'ipykernel' into the Python environment. \n",
      "\u001b[1;31mCommand: '\"c:/Users/Preya/BISAG INTERNSHIP/myenv/Scripts/python.exe\" -m pip install ipykernel -U --force-reinstall'"
     ]
    }
   ],
   "source": []
  }
 ],
 "metadata": {
  "kernelspec": {
   "display_name": "Python 3",
   "language": "python",
   "name": "python3"
  },
  "language_info": {
   "codemirror_mode": {
    "name": "ipython",
    "version": 3
   },
   "file_extension": ".py",
   "mimetype": "text/x-python",
   "name": "python",
   "nbconvert_exporter": "python",
   "pygments_lexer": "ipython3",
   "version": "3.11.3"
  }
 },
 "nbformat": 4,
 "nbformat_minor": 2
}
